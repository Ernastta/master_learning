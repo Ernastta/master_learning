{
  "nbformat": 4,
  "nbformat_minor": 0,
  "metadata": {
    "colab": {
      "provenance": [],
      "authorship_tag": "ABX9TyPL0jpEQyDxeNZX2cXBMkuv",
      "include_colab_link": true
    },
    "kernelspec": {
      "name": "python3",
      "display_name": "Python 3"
    },
    "language_info": {
      "name": "python"
    }
  },
  "cells": [
    {
      "cell_type": "markdown",
      "metadata": {
        "id": "view-in-github",
        "colab_type": "text"
      },
      "source": [
        "<a href=\"https://colab.research.google.com/github/Ernastta/master_learning/blob/main/Homework1.ipynb\" target=\"_parent\"><img src=\"https://colab.research.google.com/assets/colab-badge.svg\" alt=\"Open In Colab\"/></a>"
      ]
    },
    {
      "cell_type": "code",
      "execution_count": null,
      "metadata": {
        "id": "UoM0beqNblnM"
      },
      "outputs": [],
      "source": []
    },
    {
      "cell_type": "markdown",
      "source": [
        "Упражнение 0\n",
        "Вам даны списки names и tabs.\n",
        "\n",
        "Эти списки содержат фамилии сотрудников (names) и их табельные номера (tabs). Напишите программу, которая выведет на экран список пар имя номер, записанных в один строковый объект через пробел."
      ],
      "metadata": {
        "id": "MwR6UQNIcgr9"
      }
    },
    {
      "cell_type": "code",
      "source": [
        "names = ['Петров', 'Сидоров']\n",
        "tabs = [123, 124]\n",
        "\n",
        "\n",
        "pairs = list(zip(names, tabs))\n",
        "\n",
        "\n",
        "result = [f\"{name} {tab}\" for name, tab in pairs]\n",
        "\n",
        "\n",
        "print(result)"
      ],
      "metadata": {
        "colab": {
          "base_uri": "https://localhost:8080/"
        },
        "id": "Lk-Z_am9cs32",
        "outputId": "8c978bbc-b079-4fe1-d53c-b97ca1d3dc5b"
      },
      "execution_count": null,
      "outputs": [
        {
          "output_type": "stream",
          "name": "stdout",
          "text": [
            "['Петров 123', 'Сидоров 124']\n"
          ]
        }
      ]
    },
    {
      "cell_type": "markdown",
      "source": [
        "## Упражнение 1\n",
        "\n",
        "На вход дан список digits.\n",
        "\n",
        "Напишите код, который выводит на экран отсортированный по возрастанию список квадратов элементов digits.\n",
        "\n",
        "Sample input: digits = [5, 2, 3] \\\n",
        "Sample output: [4, 9, 25]"
      ],
      "metadata": {
        "id": "9QhWiKROeUaX"
      }
    },
    {
      "cell_type": "code",
      "source": [
        "digits = [5, 2, 3]\n",
        "\n",
        "\n",
        "squared_digits = [x**2 for x in digits]\n",
        "\n",
        "sorted_squared_digits = sorted(squared_dig\n",
        "print(sorted_squared_digits)"
      ],
      "metadata": {
        "colab": {
          "base_uri": "https://localhost:8080/"
        },
        "id": "L-S8Bcv0eaXd",
        "outputId": "882712f2-27ae-4912-d854-1acb7c2af9c1"
      },
      "execution_count": null,
      "outputs": [
        {
          "output_type": "stream",
          "name": "stdout",
          "text": [
            "[4, 9, 25]\n"
          ]
        }
      ]
    },
    {
      "cell_type": "code",
      "source": [],
      "metadata": {
        "id": "Tv1rxQt3e4Tl"
      },
      "execution_count": null,
      "outputs": []
    },
    {
      "cell_type": "markdown",
      "source": [
        "## Упражнение 2\n",
        "\n",
        "Дан кортеж tpl.\n",
        "\n",
        "Напишите код, который выведет на экран последний элемент кортежа tpl.\n",
        "\n",
        "Sample input: tpl = (1, 2, 3, 4) \\\n",
        "Sample output: 4"
      ],
      "metadata": {
        "id": "LrFW_kgee5E9"
      }
    },
    {
      "cell_type": "code",
      "source": [
        "tpl = (1, 2, 3, 4)\n",
        "\n",
        "\n",
        "print(tpl[-1])"
      ],
      "metadata": {
        "colab": {
          "base_uri": "https://localhost:8080/"
        },
        "id": "b3oTcxEee-bW",
        "outputId": "5cbf1319-9004-4487-c10a-e9d6e2f8e8f6"
      },
      "execution_count": null,
      "outputs": [
        {
          "output_type": "stream",
          "name": "stdout",
          "text": [
            "4\n"
          ]
        }
      ]
    },
    {
      "cell_type": "markdown",
      "source": [
        "## Упражнение 3\n",
        "\n",
        "С помощью какой операции можно заменить последний элемент кортежа tpl = (1, 2, 3) на 4?"
      ],
      "metadata": {
        "id": "am-5LP7Vfz9l"
      }
    },
    {
      "cell_type": "markdown",
      "source": [
        "Кортежи в Python неизменяемы. Невозможно напрямую изменить отдельный элемент кортежа.\n",
        "Чтобы получить кортеж с последним элементом, равным 4, нужно создать новый кортеж, используя срез и конкатенацию:"
      ],
      "metadata": {
        "id": "gnz8qTYxgOLN"
      }
    },
    {
      "cell_type": "code",
      "source": [
        "tpl = (1, 2, 3)\n",
        "new_tpl = tpl[:-1] + (4,)\n",
        "print(new_tpl)"
      ],
      "metadata": {
        "colab": {
          "base_uri": "https://localhost:8080/"
        },
        "id": "_wSBwQg9gfA_",
        "outputId": "8a5098bd-35c7-46b9-b34d-4e2e3b6300bf"
      },
      "execution_count": null,
      "outputs": [
        {
          "output_type": "stream",
          "name": "stdout",
          "text": [
            "(1, 2, 4)\n"
          ]
        }
      ]
    },
    {
      "cell_type": "markdown",
      "source": [
        "## Упражнение 4\n",
        "\n",
        "С помощью функции .split() получите список из строки 'hello kitty' и возьмите два последних элемента. В качестве ответа введите результат вывода."
      ],
      "metadata": {
        "id": "y9UWOUsSgpKO"
      }
    },
    {
      "cell_type": "code",
      "source": [
        "string = 'hello kitty'\n",
        "words = string.split()\n",
        "print(words[-2:])"
      ],
      "metadata": {
        "colab": {
          "base_uri": "https://localhost:8080/"
        },
        "id": "BB9jMzd4gvqm",
        "outputId": "bc626b8d-0d39-4d1f-a4fb-a0449ef3d755"
      },
      "execution_count": null,
      "outputs": [
        {
          "output_type": "stream",
          "name": "stdout",
          "text": [
            "['hello', 'kitty']\n"
          ]
        }
      ]
    },
    {
      "cell_type": "markdown",
      "source": [
        "Даны две строки: s1 и s2.\n",
        "\n",
        "Напишите программу, которая выведет на экран количество уникальных символов, встречающихся в обеих строках.\n",
        "\n",
        "Sample input: s1 = 'abcdabcd', s2 = 'cdcdef' \\\n",
        "Sample output: 2"
      ],
      "metadata": {
        "id": "KtApG5bFinuO"
      }
    },
    {
      "cell_type": "code",
      "source": [
        "s1 = 'abcdabcd'\n",
        "s2 = 'cdcdef'\n",
        "\n",
        "\n",
        "set1 = set(s1)\n",
        "set2 = set(s2)\n",
        "\n",
        "\n",
        "common_chars = set1.intersection(set2)\n",
        "\n",
        "\n",
        "print(len(common_chars))"
      ],
      "metadata": {
        "colab": {
          "base_uri": "https://localhost:8080/"
        },
        "id": "2dv0oHu4izfN",
        "outputId": "0a2eda90-f4db-4820-a18f-41a19b63a002"
      },
      "execution_count": null,
      "outputs": [
        {
          "output_type": "stream",
          "name": "stdout",
          "text": [
            "2\n"
          ]
        }
      ]
    },
    {
      "cell_type": "code",
      "source": [],
      "metadata": {
        "id": "Aeg06GS4f6Nl"
      },
      "execution_count": null,
      "outputs": []
    }
  ]
}